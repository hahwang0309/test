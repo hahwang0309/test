{
  "nbformat": 4,
  "nbformat_minor": 0,
  "metadata": {
    "colab": {
      "provenance": [],
      "authorship_tag": "ABX9TyMgz6+mtJ/VRcLQ/H28rfrD",
      "include_colab_link": true
    },
    "kernelspec": {
      "name": "python3",
      "display_name": "Python 3"
    },
    "language_info": {
      "name": "python"
    }
  },
  "cells": [
    {
      "cell_type": "markdown",
      "metadata": {
        "id": "view-in-github",
        "colab_type": "text"
      },
      "source": [
        "<a href=\"https://colab.research.google.com/github/hahwang0309/test/blob/main/search_connected_nodes.ipynb\" target=\"_parent\"><img src=\"https://colab.research.google.com/assets/colab-badge.svg\" alt=\"Open In Colab\"/></a>"
      ]
    },
    {
      "cell_type": "markdown",
      "source": [
        "## \"generating_statutory_network.ipynb\"의 결과로 생성된 G(\"/content/drive/My Drive/RegTech(2023)/Statutory_Database/my_graph.graphml\")를 불러와서 특정 노드 기반 서비그래프 탐색 및 시각화"
      ],
      "metadata": {
        "id": "AvqH_izuMYo8"
      }
    },
    {
      "cell_type": "code",
      "source": [
        "import pandas as pd\n",
        "!pip install networkx\n",
        "import networkx as nx\n",
        "import matplotlib.pyplot as plt\n",
        "import seaborn as sns"
      ],
      "metadata": {
        "id": "lEAqskdFTTEf",
        "colab": {
          "base_uri": "https://localhost:8080/"
        },
        "outputId": "d78958cd-47ae-46c7-af3b-36cee3ed2f0e"
      },
      "execution_count": null,
      "outputs": [
        {
          "output_type": "stream",
          "name": "stdout",
          "text": [
            "Requirement already satisfied: networkx in /usr/local/lib/python3.10/dist-packages (3.2.1)\n"
          ]
        }
      ]
    },
    {
      "cell_type": "markdown",
      "source": [
        "# Functions"
      ],
      "metadata": {
        "id": "tSaNoiPrM4xW"
      }
    },
    {
      "cell_type": "code",
      "execution_count": null,
      "metadata": {
        "id": "66zS5ScLu3DB"
      },
      "outputs": [],
      "source": [
        "# [FN : search_connected_nodes]\n",
        "# 특정 노드와 연결된 노드 및 서브그래프 탐색\n",
        "\n",
        "def search_connected_nodes(G, node_names, degree=1):\n",
        "    subgraph_nodes = set()\n",
        "    for node_name in node_names:\n",
        "        if node_name not in G:\n",
        "            print(f\"노드 '{node_name}'은(는) 네트워크에 존재하지 않습니다.\")\n",
        "            continue\n",
        "\n",
        "        ego_net = nx.ego_graph(G, node_name, radius=degree)\n",
        "        subgraph_nodes.update(ego_net.nodes())\n",
        "\n",
        "    subgraph = G.subgraph(subgraph_nodes)\n",
        "    edge_list = pd.DataFrame(list(subgraph.edges()), columns=['From', 'To'])\n",
        "    return edge_list"
      ]
    },
    {
      "cell_type": "code",
      "source": [
        "# [FN : save_edge_list_to_excel]\n",
        "# search_connected_nodes의 결과물인 에지리스트를 엑셀 파일로 저장\n",
        "\n",
        "def save_edge_list_to_excel(edge_list_df, file_path):\n",
        "    # 엑셀 파일로 저장\n",
        "    edge_list_df.to_excel(file_path, index=False)"
      ],
      "metadata": {
        "id": "wkT5g6MnHkTP"
      },
      "execution_count": null,
      "outputs": []
    },
    {
      "cell_type": "code",
      "source": [
        "# [FN : visualize_searched_network]\n",
        "# search_connected_nodes의 결과물인 edge_list를 그래프 시각화\n",
        "\n",
        "def visualize_searched_network(edge_list_df):\n",
        "    # 네트워크X 그래프 초기화\n",
        "    G = nx.Graph()\n",
        "\n",
        "    # 데이터프레임에서 에지 리스트를 튜플 형태로 추출\n",
        "    edges = [(row['From'], row['To']) for index, row in edge_list_df.iterrows()]\n",
        "\n",
        "    # 에지 리스트를 그래프에 추가\n",
        "    G.add_edges_from(edges)\n",
        "\n",
        "    # 레이아웃 계산, spring_layout 사용\n",
        "    pos = nx.spring_layout(G, k=0.15, iterations=20)  # k와 iterations는 조절 가능\n",
        "\n",
        "    # 그래프 시각화\n",
        "    plt.figure(figsize=(8, 5))\n",
        "    nx.draw(G, pos, with_labels=True, node_color='skyblue', alpha=1, node_size=50, edge_color='#D3D3D3', linewidths=1, font_size=10, font_weight='bold')\n",
        "    plt.show()\n",
        "\n",
        "\n",
        "    ### 노드 이름을 디코딩하도록 코드 추가 !!! ###\n"
      ],
      "metadata": {
        "id": "r2oN2px6k81b"
      },
      "execution_count": null,
      "outputs": []
    },
    {
      "cell_type": "code",
      "source": [
        "# 그래프 불러오기\n",
        "from google.colab import drive\n",
        "drive.mount('/content/drive')\n",
        "\n",
        "file_path = '/content/drive/My Drive/RegTech(2023)/Statutory_Database/my_graph.graphml'\n",
        "G = nx.read_graphml(file_path)"
      ],
      "metadata": {
        "colab": {
          "base_uri": "https://localhost:8080/"
        },
        "id": "Dt_MnhU5Iq5_",
        "outputId": "bf90db43-4eda-42c4-aabd-0b6067c79c53"
      },
      "execution_count": null,
      "outputs": [
        {
          "output_type": "stream",
          "name": "stdout",
          "text": [
            "Mounted at /content/drive\n"
          ]
        }
      ]
    },
    {
      "cell_type": "code",
      "source": [
        "# Count Number of Connected Networks\n",
        "connected_components = list(nx.connected_components(G))\n",
        "\n",
        "# 연결된 컴포넌트의 수를 출력\n",
        "number_of_connected_components = len(connected_components)\n",
        "print(\"연결된 네트워크의 수:\", number_of_connected_components)"
      ],
      "metadata": {
        "colab": {
          "base_uri": "https://localhost:8080/"
        },
        "id": "F_ubB3F9VqDO",
        "outputId": "7243a18e-c763-4d2a-fb02-d54635c67258"
      },
      "execution_count": null,
      "outputs": [
        {
          "output_type": "stream",
          "name": "stdout",
          "text": [
            "연결된 네트워크의 수: 33834\n"
          ]
        }
      ]
    },
    {
      "cell_type": "code",
      "source": [
        "# 연결된 컴포넌트의 크기 계산\n",
        "component_sizes = [len(c) for c in nx.connected_components(G)]\n",
        "\n",
        "# 밀도곡선 그리기\n",
        "plt.figure(figsize=(10, 6))\n",
        "sns.kdeplot(component_sizes, bw_adjust=0.5, fill=True)\n",
        "plt.title('연결된 컴포넌트 크기의 밀도 추정')\n",
        "plt.xlabel('컴포넌트 크기 (노드 개수)')\n",
        "plt.ylabel('밀도')\n",
        "plt.show()"
      ],
      "metadata": {
        "id": "sdVYLk-6WjiC"
      },
      "execution_count": null,
      "outputs": []
    },
    {
      "cell_type": "code",
      "source": [],
      "metadata": {
        "id": "k3213qJDY1K6"
      },
      "execution_count": null,
      "outputs": []
    },
    {
      "cell_type": "code",
      "source": [
        "max(component_sizes)"
      ],
      "metadata": {
        "colab": {
          "base_uri": "https://localhost:8080/"
        },
        "id": "pMfbcNT4YhoL",
        "outputId": "b61df057-8e11-47d2-8d7e-5b9946ae210a"
      },
      "execution_count": null,
      "outputs": [
        {
          "output_type": "execute_result",
          "data": {
            "text/plain": [
              "248062"
            ]
          },
          "metadata": {},
          "execution_count": 9
        }
      ]
    },
    {
      "cell_type": "markdown",
      "source": [
        "# Test"
      ],
      "metadata": {
        "id": "H_iuhCLBM81l"
      }
    },
    {
      "cell_type": "code",
      "source": [
        "# G로부터 임의의 노드 출력\n",
        "import random\n",
        "\n",
        "node_names = random.sample(G.nodes(), 3)\n",
        "\n",
        "print(node_names)"
      ],
      "metadata": {
        "colab": {
          "base_uri": "https://localhost:8080/"
        },
        "id": "g1UGCwxAOAsH",
        "outputId": "cbcd9248-860f-40de-cbf6-151787505b92"
      },
      "execution_count": null,
      "outputs": [
        {
          "output_type": "stream",
          "name": "stdout",
          "text": [
            "['LAW-000361-0014_6-001', 'LAW-000481-0040-002', 'ATB-000231-00901']\n"
          ]
        },
        {
          "output_type": "stream",
          "name": "stderr",
          "text": [
            "<ipython-input-11-5211895b9cd7>:4: DeprecationWarning: Sampling from a set deprecated\n",
            "since Python 3.9 and will be removed in a subsequent version.\n",
            "  node_names = random.sample(G.nodes(), 3)\n"
          ]
        }
      ]
    },
    {
      "cell_type": "code",
      "source": [
        "# search_connected_nodes 함수 테스트\n",
        "edge_list = search_connected_nodes(G, node_names,2)\n",
        "print(edge_list)"
      ],
      "metadata": {
        "colab": {
          "base_uri": "https://localhost:8080/"
        },
        "id": "I1pMjwjZOG9T",
        "outputId": "53fadbb2-e2a8-441a-ac8f-48a28b4cefbc"
      },
      "execution_count": null,
      "outputs": [
        {
          "output_type": "stream",
          "name": "stdout",
          "text": [
            "                     From                     To\n",
            "0     LAW-003318-0012-001  LAW-002403-0013_3-003\n",
            "1     LAW-002403-0065-000  LAW-002403-0013_3-003\n",
            "2     LAW-000361-0010-000  LAW-002403-0013_3-003\n",
            "3   LAW-000361-0014_4-003  LAW-002403-0013_3-003\n",
            "4     LAW-000231-0020-006    LAW-000008-0025-001\n",
            "5     LAW-000231-0020-006       ATB-000231-00901\n",
            "6     LAW-000008-0025-001    LAW-000231-0020-005\n",
            "7        FOM-000361-00404  LAW-000361-0014_6-001\n",
            "8     LAW-000481-0040-002    LAW-001984-0030-005\n",
            "9     LAW-000481-0040-002       FOM-000481-04301\n",
            "10    LAW-000231-0020-005       ATB-000231-00901\n",
            "11    LAW-002403-0063-000  LAW-002403-0013_3-003\n",
            "12  LAW-002403-0062_3-000  LAW-002403-0013_3-003\n",
            "13  LAW-000361-0014_4-004  LAW-002403-0013_3-003\n",
            "14  LAW-000361-0014_6-001  LAW-002403-0013_3-003\n",
            "15    LAW-000481-0040-000    LAW-001984-0030-005\n",
            "16    LAW-001984-0030-005  LAW-001984-0006_2-001\n",
            "17    LAW-001984-0030-005    LAW-000481-0040-003\n"
          ]
        }
      ]
    },
    {
      "cell_type": "code",
      "source": [
        "# visualize_searched_network 함수 테스트\n",
        "visualize_searched_network(edge_list)"
      ],
      "metadata": {
        "id": "I74hl-NwTLmO",
        "colab": {
          "base_uri": "https://localhost:8080/",
          "height": 536
        },
        "outputId": "a6fc789e-9ff0-41c3-cc19-2e730cdea747"
      },
      "execution_count": null,
      "outputs": [
        {
          "output_type": "display_data",
          "data": {
            "text/plain": [
              "<Figure size 800x500 with 1 Axes>"
            ],
            "image/png": "[encoded data removed]"
          },
          "metadata": {}
        }
      ]
    },
    {
      "cell_type": "markdown",
      "source": [
        "# [예제 1] 탄소중립녹색성장 법령 네트워크 추출"
      ],
      "metadata": {
        "id": "FrC3Hu-pNLOo"
      }
    },
    {
      "cell_type": "code",
      "source": [
        "# 특정 패턴으로 시작하는 노드를 찾기\n",
        "patterns = [\"LAW-000710\", \"LAW-000479\"] # 기후위기 대응을 위한 탄소중립ㆍ녹색성장 기본법과 시행령\n",
        "filtered_nodes = [node for node in G.nodes() if any(node.startswith(pattern) for pattern in patterns)]\n",
        "\n",
        "print(\"Filtered Nodes:\", filtered_nodes)"
      ],
      "metadata": {
        "colab": {
          "base_uri": "https://localhost:8080/"
        },
        "id": "sAKL4mktRMUh",
        "outputId": "b6bdb894-c2ad-4527-ace4-edb035a18177"
      },
      "execution_count": null,
      "outputs": [
        {
          "output_type": "stream",
          "name": "stdout",
          "text": [
            "Filtered Nodes: ['LAW-000710-0004-000', 'LAW-000710-0014-000', 'LAW-000479-0001_2-000', 'LAW-000479-0003-000', 'LAW-000479-0002-000', 'LAW-000479-0007-000', 'LAW-000479-0005-000', 'LAW-000479-0006-000', 'LAW-000479-0008-000', 'LAW-000479-0010-000', 'LAW-000479-0015-000', 'LAW-000479-0016-000', 'LAW-000479-0017-000', 'LAW-000479-0019-000', 'LAW-000479-0022-000', 'LAW-000479-0024-000', 'LAW-000479-0025-000', 'LAW-000479-0026-000', 'LAW-000479-0027-000', 'LAW-000479-0028-000', 'LAW-000479-0029-000', 'LAW-000479-0031-000', 'LAW-000479-0032-000', 'LAW-000479-0033-000', 'LAW-000479-0034-000', 'LAW-000479-0037-000', 'LAW-000479-0038-000', 'LAW-000479-0039-000', 'LAW-000710-0002-000', 'LAW-000710-0003-000', 'LAW-000710-0005-000', 'LAW-000710-0006-000', 'LAW-000710-0007-000', 'LAW-000710-0008-000', 'LAW-000710-0009-000', 'LAW-000710-0010-000', 'LAW-000710-0011_2-000', 'LAW-000710-0011_3-000', 'LAW-000710-0011-000', 'LAW-000710-0011_4-000', 'LAW-000710-0013-000', 'LAW-000710-0012-000', 'LAW-000710-0015-000', 'LAW-000710-0017-000', 'LAW-000710-0018-000', 'LAW-000479-0001_2-002', 'LAW-000479-0001_2-003', 'LAW-000479-0001_2-004', 'LAW-000479-0002-002', 'LAW-000479-0004-000', 'LAW-000479-0008-002', 'LAW-000479-0008-003', 'LAW-000479-0015_2-001', 'LAW-000479-0017-001', 'LAW-000479-0017-002', 'LAW-000479-0017-003', 'LAW-000479-0019-001', 'LAW-000479-0019-002', 'LAW-000479-0019-003', 'LAW-000479-0021-000', 'LAW-000479-0022-001', 'LAW-000479-0022-002', 'LAW-000479-0022_2-000', 'LAW-000479-0023-000', 'LAW-000479-0025-001', 'LAW-000479-0025-002', 'LAW-000479-0025-005', 'LAW-000479-0026-001', 'LAW-000479-0026-002', 'LAW-000479-0027-001', 'LAW-000479-0026-003', 'LAW-000479-0029-001', 'LAW-000479-0038-001', 'LAW-000479-0038-002', 'LAW-000479-0006-001', 'LAW-000479-0038-003', 'LAW-000479-0038_2-001', 'LAW-000479-0000-000', 'LAW-000479-0038_2-002', 'LAW-000479-0038_3-001', 'LAW-000479-0038_3-002', 'LAW-000479-0020-000', 'LAW-000710-0007-001', 'LAW-000710-0007-002', 'LAW-000710-0008-005', 'LAW-000710-0009-003', 'LAW-000710-0008-002', 'LAW-000710-0008-003', 'LAW-000710-0009-005', 'LAW-000710-0009-006', 'LAW-000710-0010-001', 'LAW-000710-0010-002', 'LAW-000710-0010-003', 'LAW-000710-0010-005', 'LAW-000710-0011-001', 'LAW-000710-0011-002', 'LAW-000710-0011-004', 'LAW-000710-0011-005', 'LAW-000710-0011-006', 'LAW-000710-0011_2-001', 'LAW-000710-0011_2-002', 'LAW-000710-0011_2-003', 'LAW-000710-0011_2-004', 'LAW-000710-0011_3-001', 'LAW-000710-0011_3-002', 'LAW-000710-0011_4-001', 'LAW-000710-0011_4-002', 'LAW-000710-0011-003', 'LAW-000710-0011_3-003', 'LAW-000710-0012-001', 'LAW-000710-0012-002', 'LAW-000710-0014-001', 'LAW-000710-0014-002', 'LAW-000710-0014-003', 'LAW-000710-0015-001', 'LAW-000710-0015-004', 'LAW-000710-0015-006', 'LAW-000710-0016-000', 'LAW-000710-0017-001', 'LAW-000710-0018-001']\n"
          ]
        }
      ]
    },
    {
      "cell_type": "code",
      "source": [
        "edge_list = search_connected_nodes(G, filtered_nodes,2)\n",
        "print(edge_list)"
      ],
      "metadata": {
        "colab": {
          "base_uri": "https://localhost:8080/"
        },
        "id": "uzOlUhYbGIvY",
        "outputId": "bf6870c7-40c1-4a07-8e68-eec98f78fd56"
      },
      "execution_count": null,
      "outputs": [
        {
          "output_type": "stream",
          "name": "stdout",
          "text": [
            "                       From                     To\n",
            "0       LAW-004053-0010-002    LAW-001940-0036-001\n",
            "1     LAW-000560-0036_2-001    LAW-001940-0036-001\n",
            "2     LAW-000560-0036_2-001    LAW-000560-0033-003\n",
            "3       LAW-000125-0022-002    LAW-001940-0036-001\n",
            "4       LAW-000626-0047-001    LAW-001940-0036-001\n",
            "...                     ...                    ...\n",
            "3757    LAW-000710-0004-000    LAW-001418-0021-002\n",
            "3758  LAW-001034-0020_2-003    LAW-001367-0009-001\n",
            "3759  LAW-003046-0013_2-001    LAW-003046-0013-002\n",
            "3760  LAW-003334-0011_2-000  LAW-000479-0015_2-001\n",
            "3761    LAW-001367-0009-001    LAW-000479-0026-003\n",
            "\n",
            "[3762 rows x 2 columns]\n"
          ]
        }
      ]
    },
    {
      "cell_type": "code",
      "source": [
        "save_edge_list_to_excel(edge_list, \"/content/drive/My Drive/AR6 Carbon Neutral Scenarios/statutory_network.xlsx\")"
      ],
      "metadata": {
        "id": "rnV4y6O2GXoe"
      },
      "execution_count": null,
      "outputs": []
    }
  ]
}